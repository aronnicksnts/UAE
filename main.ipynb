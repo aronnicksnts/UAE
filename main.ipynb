{
 "cells": [
  {
   "cell_type": "code",
   "execution_count": 1,
   "metadata": {},
   "outputs": [],
   "source": [
    "import xray_data\n",
    "import uae_main\n",
    "import torch\n",
    "from argparse import ArgumentParser\n",
    "import json"
   ]
  },
  {
   "cell_type": "code",
   "execution_count": 2,
   "metadata": {},
   "outputs": [
    {
     "name": "stdout",
     "output_type": "stream",
     "text": [
      "key:  ls value:  128\n",
      "key:  mp value:  0.5\n",
      "key:  u value:  False\n",
      "key:  epochs value:  5\n",
      "key:  cuda value:  0\n",
      "key:  exp value:  Trial_2_UPAE\n",
      "key:  dataset value:  4\n",
      "key:  batchsize value:  64\n",
      "key:  image_size value:  64\n"
     ]
    }
   ],
   "source": [
    "model_name = \"Trial_2_UPAE\"\n",
    "# Get JSON file from models/model_parameters/\n",
    "model_parameters = json.load(open(f'models/model_parameters/{model_name}.json'))\n",
    "\n",
    "# Set up the arguments for the model from the JSON file\n",
    "parser = ArgumentParser()\n",
    "for key, value in model_parameters.items():\n",
    "    parser.add_argument(f\"--{key}\", dest=key, type=type(value), default=value)\n",
    "    print(\"key: \", key, \"value: \", value)\n",
    "\n",
    "# Parse the arguments\n",
    "opt = parser.parse_args(args=[])\n"
   ]
  },
  {
   "cell_type": "code",
   "execution_count": 3,
   "metadata": {},
   "outputs": [
    {
     "name": "stderr",
     "output_type": "stream",
     "text": [
      " 93%|█████████▎| 4184/4509 [00:06<00:00, 612.44it/s]\n"
     ]
    },
    {
     "ename": "KeyboardInterrupt",
     "evalue": "",
     "output_type": "error",
     "traceback": [
      "\u001b[1;31m---------------------------------------------------------------------------\u001b[0m",
      "\u001b[1;31mKeyboardInterrupt\u001b[0m                         Traceback (most recent call last)",
      "Cell \u001b[1;32mIn[3], line 1\u001b[0m\n\u001b[1;32m----> 1\u001b[0m current_model \u001b[39m=\u001b[39m uae_main\u001b[39m.\u001b[39mtrain(opt)\n",
      "File \u001b[1;32md:\\GithubRepos\\UAE\\uae_main.py:37\u001b[0m, in \u001b[0;36mtrain\u001b[1;34m(opt)\u001b[0m\n\u001b[0;32m     35\u001b[0m EPOCHS \u001b[39m=\u001b[39m opt\u001b[39m.\u001b[39mepochs\n\u001b[0;32m     36\u001b[0m \u001b[39m# Loads the data, loader is the training data, test_loader is the testing data\u001b[39;00m\n\u001b[1;32m---> 37\u001b[0m loader \u001b[39m=\u001b[39m xray_data\u001b[39m.\u001b[39mget_xray_dataloader(\n\u001b[0;32m     38\u001b[0m     opt\u001b[39m.\u001b[39mbatchsize, WORKERS, \u001b[39m'\u001b[39m\u001b[39mtrain\u001b[39m\u001b[39m'\u001b[39m, img_size\u001b[39m=\u001b[39mopt\u001b[39m.\u001b[39mimage_size, dataset\u001b[39m=\u001b[39mopt\u001b[39m.\u001b[39mdataset)\n\u001b[0;32m     39\u001b[0m test_loader \u001b[39m=\u001b[39m xray_data\u001b[39m.\u001b[39mget_xray_dataloader(\n\u001b[0;32m     40\u001b[0m     opt\u001b[39m.\u001b[39mbatchsize, WORKERS, \u001b[39m'\u001b[39m\u001b[39mtest\u001b[39m\u001b[39m'\u001b[39m, img_size\u001b[39m=\u001b[39mopt\u001b[39m.\u001b[39mimage_size, dataset\u001b[39m=\u001b[39mopt\u001b[39m.\u001b[39mdataset)\n\u001b[0;32m     42\u001b[0m opt\u001b[39m.\u001b[39mepochs \u001b[39m=\u001b[39m EPOCHS\n",
      "File \u001b[1;32md:\\GithubRepos\\UAE\\xray_data.py:56\u001b[0m, in \u001b[0;36mget_xray_dataloader\u001b[1;34m(bs, workers, dtype, img_size, dataset)\u001b[0m\n\u001b[0;32m     52\u001b[0m path \u001b[39m=\u001b[39m \u001b[39mf\u001b[39m\u001b[39m\"\u001b[39m\u001b[39m{\u001b[39;00mDATA_PATH\u001b[39m}\u001b[39;00m\u001b[39m/\u001b[39m\u001b[39m{\u001b[39;00mdataset\u001b[39m}\u001b[39;00m\u001b[39m/\u001b[39m\u001b[39m\"\u001b[39m\n\u001b[0;32m     54\u001b[0m path \u001b[39m+\u001b[39m\u001b[39m=\u001b[39m dtype\n\u001b[1;32m---> 56\u001b[0m dset \u001b[39m=\u001b[39m Xray(main_path\u001b[39m=\u001b[39mpath, transform\u001b[39m=\u001b[39mtransform, img_size\u001b[39m=\u001b[39mimg_size)\n\u001b[0;32m     57\u001b[0m train_flag \u001b[39m=\u001b[39m \u001b[39mTrue\u001b[39;00m \u001b[39mif\u001b[39;00m dtype \u001b[39m==\u001b[39m \u001b[39m'\u001b[39m\u001b[39mtrain\u001b[39m\u001b[39m'\u001b[39m \u001b[39melse\u001b[39;00m \u001b[39mFalse\u001b[39;00m\n\u001b[0;32m     58\u001b[0m dataloader \u001b[39m=\u001b[39m data\u001b[39m.\u001b[39mDataLoader(dset, bs, shuffle\u001b[39m=\u001b[39mtrain_flag,\n\u001b[0;32m     59\u001b[0m                              drop_last\u001b[39m=\u001b[39mtrain_flag, num_workers\u001b[39m=\u001b[39mworkers, pin_memory\u001b[39m=\u001b[39m\u001b[39mTrue\u001b[39;00m)\n",
      "File \u001b[1;32md:\\GithubRepos\\UAE\\xray_data.py:27\u001b[0m, in \u001b[0;36mXray.__init__\u001b[1;34m(self, main_path, img_size, transform)\u001b[0m\n\u001b[0;32m     25\u001b[0m     \u001b[39mcontinue\u001b[39;00m\n\u001b[0;32m     26\u001b[0m \u001b[39mfor\u001b[39;00m file_name \u001b[39min\u001b[39;00m tqdm(os\u001b[39m.\u001b[39mlistdir(main_path\u001b[39m+\u001b[39m\u001b[39m'\u001b[39m\u001b[39m/\u001b[39m\u001b[39m'\u001b[39m\u001b[39m+\u001b[39mlabel)):\n\u001b[1;32m---> 27\u001b[0m     data \u001b[39m=\u001b[39m sitk\u001b[39m.\u001b[39mReadImage(main_path\u001b[39m+\u001b[39m\u001b[39m'\u001b[39m\u001b[39m/\u001b[39m\u001b[39m'\u001b[39m\u001b[39m+\u001b[39mlabel \u001b[39m+\u001b[39m \u001b[39m'\u001b[39m\u001b[39m/\u001b[39m\u001b[39m'\u001b[39m \u001b[39m+\u001b[39m file_name)\n\u001b[0;32m     28\u001b[0m     data \u001b[39m=\u001b[39m sitk\u001b[39m.\u001b[39mGetArrayFromImage(data)\u001b[39m.\u001b[39msqueeze()\n\u001b[0;32m     29\u001b[0m     img \u001b[39m=\u001b[39m Image\u001b[39m.\u001b[39mfromarray(data)\u001b[39m.\u001b[39mconvert(\u001b[39m'\u001b[39m\u001b[39mL\u001b[39m\u001b[39m'\u001b[39m)\u001b[39m.\u001b[39mresize((img_size,img_size), resample\u001b[39m=\u001b[39mImage\u001b[39m.\u001b[39mBILINEAR)\n",
      "File \u001b[1;32mc:\\Users\\SKill\\anaconda3\\envs\\torchDL\\Lib\\site-packages\\SimpleITK\\extra.py:355\u001b[0m, in \u001b[0;36mReadImage\u001b[1;34m(fileName, outputPixelType, imageIO)\u001b[0m\n\u001b[0;32m    353\u001b[0m reader\u001b[39m.\u001b[39mSetImageIO(imageIO)\n\u001b[0;32m    354\u001b[0m reader\u001b[39m.\u001b[39mSetOutputPixelType(outputPixelType)\n\u001b[1;32m--> 355\u001b[0m \u001b[39mreturn\u001b[39;00m reader\u001b[39m.\u001b[39mExecute()\n",
      "File \u001b[1;32mc:\\Users\\SKill\\anaconda3\\envs\\torchDL\\Lib\\site-packages\\SimpleITK\\SimpleITK.py:8438\u001b[0m, in \u001b[0;36mImageFileReader.Execute\u001b[1;34m(self)\u001b[0m\n\u001b[0;32m   8425\u001b[0m \u001b[39mdef\u001b[39;00m \u001b[39mExecute\u001b[39m(\u001b[39mself\u001b[39m):\n\u001b[0;32m   8426\u001b[0m \u001b[39m    \u001b[39m\u001b[39mr\u001b[39m\u001b[39m\"\"\"\u001b[39;00m\n\u001b[0;32m   8427\u001b[0m \u001b[39m    Execute(ImageFileReader self) -> Image\u001b[39;00m\n\u001b[0;32m   8428\u001b[0m \n\u001b[1;32m   (...)\u001b[0m\n\u001b[0;32m   8436\u001b[0m \n\u001b[0;32m   8437\u001b[0m \u001b[39m    \"\"\"\u001b[39;00m\n\u001b[1;32m-> 8438\u001b[0m     \u001b[39mreturn\u001b[39;00m _SimpleITK\u001b[39m.\u001b[39mImageFileReader_Execute(\u001b[39mself\u001b[39m)\n",
      "\u001b[1;31mKeyboardInterrupt\u001b[0m: "
     ]
    }
   ],
   "source": [
    "uae_main.train(opt)\n",
    "uae_main.test_for_xray(opt, plot=True)"
   ]
  },
  {
   "cell_type": "code",
   "execution_count": null,
   "metadata": {},
   "outputs": [],
   "source": []
  },
  {
   "cell_type": "code",
   "execution_count": null,
   "metadata": {},
   "outputs": [],
   "source": []
  }
 ],
 "metadata": {
  "kernelspec": {
   "display_name": "torchDL",
   "language": "python",
   "name": "python3"
  },
  "language_info": {
   "codemirror_mode": {
    "name": "ipython",
    "version": 3
   },
   "file_extension": ".py",
   "mimetype": "text/x-python",
   "name": "python",
   "nbconvert_exporter": "python",
   "pygments_lexer": "ipython3",
   "version": "3.11.3"
  },
  "orig_nbformat": 4
 },
 "nbformat": 4,
 "nbformat_minor": 2
}
